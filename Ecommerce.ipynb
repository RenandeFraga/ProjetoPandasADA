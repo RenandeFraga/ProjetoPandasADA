{
 "cells": [
  {
   "cell_type": "markdown",
   "id": "da129846-6490-405f-8a39-8b0f877fe47f",
   "metadata": {},
   "source": [
    "<h1 style='color:green'>Projeto do Módulo 4</h1>\n",
    "\n",
    "<a href='https://www.kaggle.com/datasets/erak1006/brazilian-e-commerce-company-olist?select=order_payments_dataset.csv'>banco de dados</a>\n",
    "\n",
    "<h2 style='color:green'>Sobre o Dataset:</h2>\n",
    "\n",
    "<ul style='color:green'>\n",
    "    <li><b>Tabela 1</b> - produtos: Informações sobre a nome, categoria e dimensões do produto.</li>\n",
    "    <li><b>Tabela 2</b> - pedidos_items: Informações sobre o produto com seu respectivo vendedor, preço e envio.</li>\n",
    "    <li><b>Tabela 3</b> - pedidos_pagamentos: Informações sobre o método de pagamento utilizado e valor de acordo com o id do pedido.</li>\n",
    "    <li><b>Tabela 4</b> - pedidos_avaliações: Avaliação do cliente que recebeu o pedido.</li>\n",
    "    <li><b>Tabela 5</b> - pedidos: Informações sobre o pedido do cliente, com data da ordem, previsão de entrega e data da entrega.</li>\n",
    "    <li><b>Tabela 6</b> - vendedores: Informações sobre o vendedor, com id e endereço.</li>\n",
    "    <li><b>Tabela 7</b> - clientes: Informações sobre a localização do cliente.</li>\n",
    "</ul>"
   ]
  },
  {
   "cell_type": "code",
   "execution_count": 2,
   "id": "96a0378d-23d9-405a-a2c9-d76060217044",
   "metadata": {
    "tags": []
   },
   "outputs": [],
   "source": [
    "import pandas as pd"
   ]
  },
  {
   "cell_type": "code",
   "execution_count": 39,
   "id": "d021ba71-75b9-4b5e-a88c-3c143376810e",
   "metadata": {
    "tags": []
   },
   "outputs": [],
   "source": [
    "# Carregando os dados:\n",
    "produtos = pd.read_csv(\"products_dataset.csv\")\n",
    "pedidos_items = pd.read_csv('order_items_dataset.csv')\n",
    "pedidos_pagamentos = pd.read_csv('order_payments_dataset.csv')\n",
    "pedidos_avaliacoes = pd.read_csv('order_reviews_dataset.csv')\n",
    "pedidos = pd.read_csv('orders_dataset.csv')\n",
    "vendedores = pd.read_csv('sellers_dataset.csv')\n",
    "clientes = pd.read_csv('customers_dataset.csv')"
   ]
  },
  {
   "cell_type": "markdown",
   "id": "284113a0-27cf-49f9-8dbe-f43b34ad5e54",
   "metadata": {},
   "source": [
    "<h2 style='color:green'>Shape dos Datasets:</h2>"
   ]
  },
  {
   "cell_type": "code",
   "execution_count": 42,
   "id": "65c5693b-d951-4593-9484-d9e74c8e90a8",
   "metadata": {
    "tags": []
   },
   "outputs": [
    {
     "name": "stdout",
     "output_type": "stream",
     "text": [
      "produtos: (32951, 9) Nulos: 2448\n",
      "pedidos_items: (112650, 7) Nulos: 0\n",
      "pedidos_pagamentos: (103886, 5) Nulos: 0\n",
      "pedidos_avaliacoes: (100000, 7) Nulos: 146532\n",
      "pedidos: (99441, 8) Nulos: 4908\n",
      "vendedores: (3095, 4) Nulos: 0\n",
      "clientes: (99441, 5) Nulos: 0\n"
     ]
    }
   ],
   "source": [
    "print(f'produtos:',produtos.shape, \"Nulos:\", produtos.isna().sum().sum())\n",
    "print(f'pedidos_items:',pedidos_items.shape, \"Nulos:\", pedidos_items.isna().sum().sum())\n",
    "print(f'pedidos_pagamentos:',pedidos_pagamentos.shape, \"Nulos:\", pedidos_pagamentos.isna().sum().sum())\n",
    "print(f'pedidos_avaliacoes:',pedidos_avaliacoes.shape, \"Nulos:\", pedidos_avaliacoes.isna().sum().sum())\n",
    "print(f'pedidos:',pedidos.shape, \"Nulos:\", pedidos.isna().sum().sum())\n",
    "print(f'vendedores:',vendedores.shape, \"Nulos:\", vendedores.isna().sum().sum())\n",
    "print(f'clientes:',clientes.shape, \"Nulos:\", clientes.isna().sum().sum())"
   ]
  },
  {
   "cell_type": "code",
   "execution_count": 43,
   "id": "2acfdc45-4e71-46f5-8be3-2a3ec308c792",
   "metadata": {
    "tags": []
   },
   "outputs": [
    {
     "name": "stdout",
     "output_type": "stream",
     "text": [
      "<class 'pandas.core.frame.DataFrame'>\n",
      "RangeIndex: 32951 entries, 0 to 32950\n",
      "Data columns (total 9 columns):\n",
      " #   Column                      Non-Null Count  Dtype  \n",
      "---  ------                      --------------  -----  \n",
      " 0   product_id                  32951 non-null  object \n",
      " 1   product_category_name       32341 non-null  object \n",
      " 2   product_name_lenght         32341 non-null  float64\n",
      " 3   product_description_lenght  32341 non-null  float64\n",
      " 4   product_photos_qty          32341 non-null  float64\n",
      " 5   product_weight_g            32949 non-null  float64\n",
      " 6   product_length_cm           32949 non-null  float64\n",
      " 7   product_height_cm           32949 non-null  float64\n",
      " 8   product_width_cm            32949 non-null  float64\n",
      "dtypes: float64(7), object(2)\n",
      "memory usage: 2.3+ MB\n"
     ]
    }
   ],
   "source": [
    "produtos.info()"
   ]
  },
  {
   "cell_type": "markdown",
   "id": "6d6ef125-ca3c-495b-87ef-a44232ba2fe3",
   "metadata": {},
   "source": [
    "<p style='color:red'>Produtos sem categoria: podemos trocar NaN por 'categoria_desconhecida', e as dimensões por 'dimensão_desconhecida'</p>"
   ]
  },
  {
   "cell_type": "code",
   "execution_count": 44,
   "id": "45f49bb2-a231-42f8-b1eb-6960c7795672",
   "metadata": {
    "tags": []
   },
   "outputs": [
    {
     "name": "stdout",
     "output_type": "stream",
     "text": [
      "<class 'pandas.core.frame.DataFrame'>\n",
      "RangeIndex: 100000 entries, 0 to 99999\n",
      "Data columns (total 7 columns):\n",
      " #   Column                   Non-Null Count   Dtype \n",
      "---  ------                   --------------   ----- \n",
      " 0   review_id                100000 non-null  object\n",
      " 1   order_id                 100000 non-null  object\n",
      " 2   review_score             100000 non-null  int64 \n",
      " 3   review_comment_title     11715 non-null   object\n",
      " 4   review_comment_message   41753 non-null   object\n",
      " 5   review_creation_date     100000 non-null  object\n",
      " 6   review_answer_timestamp  100000 non-null  object\n",
      "dtypes: int64(1), object(6)\n",
      "memory usage: 5.3+ MB\n"
     ]
    }
   ],
   "source": [
    "pedidos_avaliacoes.info() "
   ]
  },
  {
   "cell_type": "markdown",
   "id": "248eaaab-3c92-4357-a0f6-6dcbb9794d26",
   "metadata": {
    "tags": []
   },
   "source": [
    "<p style='color:red'>As reviews sem título e comentário podemos descartar</p>"
   ]
  },
  {
   "cell_type": "code",
   "execution_count": 49,
   "id": "703fe3c6-b256-4b5f-bb97-b7dcc86a84c4",
   "metadata": {
    "tags": []
   },
   "outputs": [
    {
     "data": {
      "text/plain": [
       "order_id                         136cce7faa42fdb2cefd53fdc79a6098\n",
       "customer_id                      ed0271e0b7da060a393796590e7b737a\n",
       "order_status                                             invoiced\n",
       "order_purchase_timestamp                      2017-04-11 12:22:08\n",
       "order_approved_at                             2017-04-13 13:25:17\n",
       "order_delivered_carrier_date                                  NaN\n",
       "order_delivered_customer_date                                 NaN\n",
       "order_estimated_delivery_date                 2017-05-09 00:00:00\n",
       "Name: 6, dtype: object"
      ]
     },
     "execution_count": 49,
     "metadata": {},
     "output_type": "execute_result"
    }
   ],
   "source": [
    "pedidos.loc[6]"
   ]
  },
  {
   "cell_type": "markdown",
   "id": "9326d86f-efac-442a-b4d3-e5214f5d2a1f",
   "metadata": {},
   "source": [
    "<p style='color:red'>Pode ser que os nulos do order_delivered_carrier_date e order_delivered_customer_date sejam produtos ainda não entregues/ enviados ao correio.</p>"
   ]
  },
  {
   "cell_type": "code",
   "execution_count": null,
   "id": "0131e468-a340-4d38-8fd2-585adadc2e1b",
   "metadata": {},
   "outputs": [],
   "source": []
  }
 ],
 "metadata": {
  "kernelspec": {
   "display_name": "Python 3 (ipykernel)",
   "language": "python",
   "name": "python3"
  },
  "language_info": {
   "codemirror_mode": {
    "name": "ipython",
    "version": 3
   },
   "file_extension": ".py",
   "mimetype": "text/x-python",
   "name": "python",
   "nbconvert_exporter": "python",
   "pygments_lexer": "ipython3",
   "version": "3.11.5"
  }
 },
 "nbformat": 4,
 "nbformat_minor": 5
}
